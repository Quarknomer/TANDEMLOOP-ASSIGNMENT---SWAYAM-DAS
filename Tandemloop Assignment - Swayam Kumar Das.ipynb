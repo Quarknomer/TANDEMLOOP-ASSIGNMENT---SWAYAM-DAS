{
  "nbformat": 4,
  "nbformat_minor": 0,
  "metadata": {
    "colab": {
      "provenance": []
    },
    "kernelspec": {
      "name": "python3",
      "display_name": "Python 3"
    },
    "language_info": {
      "name": "python"
    }
  },
  "cells": [
    {
      "cell_type": "code",
      "execution_count": 2,
      "metadata": {
        "colab": {
          "base_uri": "https://localhost:8080/"
        },
        "id": "tfRZ6wbMsTmM",
        "outputId": "936b12ae-02da-48f2-b483-42598f03ba3a"
      },
      "outputs": [
        {
          "output_type": "stream",
          "name": "stdout",
          "text": [
            "15\n",
            "5\n",
            "50\n",
            "2.0\n",
            "Error: Division by zero\n",
            "Error: Invalid operation\n"
          ]
        }
      ],
      "source": [
        "#Problem1\n",
        "class Calculator:\n",
        "    def calculate(self, a, b, operation):\n",
        "        if operation == '+':\n",
        "            return a + b\n",
        "        elif operation == '-':\n",
        "            return a - b\n",
        "        elif operation == '*':\n",
        "            return a * b\n",
        "        elif operation == '/':\n",
        "            if b != 0:\n",
        "                return a / b\n",
        "            else:\n",
        "                return \"Error: Division by zero\"\n",
        "        else:\n",
        "            return \"Error: Invalid operation\"\n",
        "\n",
        "calc = Calculator()\n",
        "print(calc.calculate(10, 5, '+'))\n",
        "print(calc.calculate(10, 5, '-'))\n",
        "print(calc.calculate(10, 5, '*'))\n",
        "print(calc.calculate(10, 5, '/'))\n",
        "print(calc.calculate(10, 0, '/'))\n",
        "print(calc.calculate(10, 5, '%'))"
      ]
    },
    {
      "cell_type": "code",
      "source": [
        "#Problem2\n",
        "def generate_series(x):\n",
        "    return ', '.join(str(i) for i in range(1, 2*x, 2))\n",
        "\n",
        "for i in range(1, 6):\n",
        "    print(f\"Input a = {i}, Output: {generate_series(i)}\")"
      ],
      "metadata": {
        "colab": {
          "base_uri": "https://localhost:8080/"
        },
        "id": "fc0uceB-spPQ",
        "outputId": "b90a98dc-f61d-426f-eb55-fe4995f58523"
      },
      "execution_count": 3,
      "outputs": [
        {
          "output_type": "stream",
          "name": "stdout",
          "text": [
            "Input a = 1, Output: 1\n",
            "Input a = 2, Output: 1, 3\n",
            "Input a = 3, Output: 1, 3, 5\n",
            "Input a = 4, Output: 1, 3, 5, 7\n",
            "Input a = 5, Output: 1, 3, 5, 7, 9\n"
          ]
        }
      ]
    },
    {
      "cell_type": "code",
      "source": [
        "#Problem3\n",
        "\n",
        "def generate_series_3(x):\n",
        "    if x < 3:\n",
        "        return \"1\"\n",
        "    return ', '.join(str(i) for i in range(1, 2*((x+1)//2), 2))\n",
        "\n",
        "for i in range(1, 8):\n",
        "    print(f\"Input a = {i}, Output: {generate_series_3(i)}\")"
      ],
      "metadata": {
        "colab": {
          "base_uri": "https://localhost:8080/"
        },
        "id": "MznozqQJs0Hp",
        "outputId": "7ade9753-c285-47b0-c0f3-389586757675"
      },
      "execution_count": 4,
      "outputs": [
        {
          "output_type": "stream",
          "name": "stdout",
          "text": [
            "Input a = 1, Output: 1\n",
            "Input a = 2, Output: 1\n",
            "Input a = 3, Output: 1, 3\n",
            "Input a = 4, Output: 1, 3\n",
            "Input a = 5, Output: 1, 3, 5\n",
            "Input a = 6, Output: 1, 3, 5\n",
            "Input a = 7, Output: 1, 3, 5, 7\n"
          ]
        }
      ]
    },
    {
      "cell_type": "code",
      "source": [
        "#Problem4\n",
        "def count_multiples(numbers):\n",
        "    result = {i: 0 for i in range(1, 10)}\n",
        "    for num in numbers:\n",
        "        for i in range(1, 10):\n",
        "            if num % i == 0:\n",
        "                result[i] += 1\n",
        "    return result\n",
        "\n",
        "input_list = [1, 2, 8, 9, 12, 46, 76, 82, 15, 20, 30]\n",
        "print(count_multiples(input_list))"
      ],
      "metadata": {
        "colab": {
          "base_uri": "https://localhost:8080/"
        },
        "id": "Q04dTKmItJOv",
        "outputId": "8ae0c8f0-609f-44e7-eaba-59e34d5b02ba"
      },
      "execution_count": 5,
      "outputs": [
        {
          "output_type": "stream",
          "name": "stdout",
          "text": [
            "{1: 11, 2: 8, 3: 4, 4: 4, 5: 3, 6: 2, 7: 0, 8: 1, 9: 1}\n"
          ]
        }
      ]
    }
  ]
}